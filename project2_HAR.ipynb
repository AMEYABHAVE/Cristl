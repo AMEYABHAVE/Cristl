{
  "nbformat": 4,
  "nbformat_minor": 0,
  "metadata": {
    "colab": {
      "name": "project2_HAR.ipynb",
      "provenance": [],
      "mount_file_id": "1k1_6MRy254XImSCnf5EN7RdMnFvrJPhA",
      "authorship_tag": "ABX9TyOlFLsF8AjHc62cyt23rHoz",
      "include_colab_link": true
    },
    "kernelspec": {
      "name": "python3",
      "display_name": "Python 3"
    },
    "language_info": {
      "name": "python"
    }
  },
  "cells": [
    {
      "cell_type": "markdown",
      "metadata": {
        "id": "view-in-github",
        "colab_type": "text"
      },
      "source": [
        "<a href=\"https://colab.research.google.com/github/AMEYABHAVE/Cristl/blob/main/project2_HAR.ipynb\" target=\"_parent\"><img src=\"https://colab.research.google.com/assets/colab-badge.svg\" alt=\"Open In Colab\"/></a>"
      ]
    },
    {
      "cell_type": "code",
      "metadata": {
        "colab": {
          "base_uri": "https://localhost:8080/"
        },
        "id": "J_39geOCNFWK",
        "outputId": "e0f73e47-ad39-4b16-b37d-93c9c5a2ab50"
      },
      "source": [
        "import tensorflow as tf\n",
        "from tensorflow.keras import Sequential\n",
        "from tensorflow.keras.layers import Flatten, Dense, Dropout, BatchNormalization\n",
        "from tensorflow.keras.layers import Conv2D, MaxPool2D\n",
        "from tensorflow.keras.optimizers import Adam\n",
        "print(tf.__version__)"
      ],
      "execution_count": 1,
      "outputs": [
        {
          "output_type": "stream",
          "name": "stdout",
          "text": [
            "2.6.0\n"
          ]
        }
      ]
    },
    {
      "cell_type": "code",
      "metadata": {
        "id": "XOv7Iw1jOdTc"
      },
      "source": [
        "from google.colab import drive\n",
        "import pandas as pd\n",
        "file_location = '/content/drive/MyDrive/accelerometer.csv'\n",
        "accelerometer =pd.read_csv(file_location)\n",
        "accelerometer.drop(columns=['time','repetition','uuid'], inplace=True)\n",
        "accchair= accelerometer[accelerometer['activity'] == 'CHAIR'].head(31065)\n",
        "acccouch= accelerometer[accelerometer['activity'] == 'COUCH'].head(31065)\n",
        "accsurface= accelerometer[accelerometer['activity'] == 'SURFACE'].head(31065)\n",
        "acclyingup= accelerometer[accelerometer['activity'] == 'LYING_UP'].head(31065)\n",
        "acclyingside= accelerometer[accelerometer['activity'] == 'LYING_SIDE'].head(31065)\n",
        "accdataset = pd.DataFrame()\n",
        "accdataset = accdataset.append([accchair, acccouch, accsurface, acclyingup, acclyingside])\n",
        "\n",
        "file_location1 = '/content/drive/MyDrive/gyroscope.csv'\n",
        "gyroscope =pd.read_csv(file_location1)\n",
        "gyroscope.drop(columns=['time','repetition','uuid'], inplace=True)\n",
        "gyrchair= gyroscope[gyroscope['activity'] == 'CHAIR'].head(10178)\n",
        "gyrcouch= gyroscope[gyroscope['activity'] == 'COUCH'].head(10178)\n",
        "gyrsurface= gyroscope[gyroscope['activity'] == 'SURFACE'].head(10178)\n",
        "gyrlyingup= gyroscope[gyroscope['activity'] == 'LYING_UP'].head(10178)\n",
        "gyrlyingside= gyroscope[gyroscope['activity'] == 'LYING_SIDE'].head(10178)\n",
        "gyrdataset = pd.DataFrame()\n",
        "gyrdataset = gyrdataset.append([gyrchair, gyrcouch, gyrsurface, gyrlyingup, gyrlyingside])"
      ],
      "execution_count": 2,
      "outputs": []
    },
    {
      "cell_type": "code",
      "metadata": {
        "colab": {
          "base_uri": "https://localhost:8080/"
        },
        "id": "ulpTn2jJsCkN",
        "outputId": "594fd133-bbd4-4215-e177-ea3b689e5004"
      },
      "source": [
        "accdataset.info()\n",
        "gyrdataset.info()"
      ],
      "execution_count": 3,
      "outputs": [
        {
          "output_type": "stream",
          "name": "stdout",
          "text": [
            "<class 'pandas.core.frame.DataFrame'>\n",
            "Int64Index: 155325 entries, 0 to 290908\n",
            "Data columns (total 5 columns):\n",
            " #   Column    Non-Null Count   Dtype  \n",
            "---  ------    --------------   -----  \n",
            " 0   name      155325 non-null  object \n",
            " 1   acc_x     155325 non-null  float64\n",
            " 2   acc_y     155325 non-null  float64\n",
            " 3   acc_z     155325 non-null  float64\n",
            " 4   activity  155325 non-null  object \n",
            "dtypes: float64(3), object(2)\n",
            "memory usage: 7.1+ MB\n",
            "<class 'pandas.core.frame.DataFrame'>\n",
            "Int64Index: 50890 entries, 0 to 93659\n",
            "Data columns (total 5 columns):\n",
            " #   Column    Non-Null Count  Dtype  \n",
            "---  ------    --------------  -----  \n",
            " 0   name      50890 non-null  object \n",
            " 1   gyr_x     50890 non-null  float64\n",
            " 2   gyr_y     50890 non-null  float64\n",
            " 3   gyr_z     50890 non-null  float64\n",
            " 4   activity  50890 non-null  object \n",
            "dtypes: float64(3), object(2)\n",
            "memory usage: 2.3+ MB\n"
          ]
        }
      ]
    }
  ]
}
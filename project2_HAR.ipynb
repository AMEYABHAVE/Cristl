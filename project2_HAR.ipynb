{
  "nbformat": 4,
  "nbformat_minor": 0,
  "metadata": {
    "colab": {
      "name": "project2_HAR.ipynb",
      "provenance": [],
      "mount_file_id": "1k1_6MRy254XImSCnf5EN7RdMnFvrJPhA",
      "authorship_tag": "ABX9TyNse3zjpnN1PdtMyXqXgCwS",
      "include_colab_link": true
    },
    "kernelspec": {
      "name": "python3",
      "display_name": "Python 3"
    },
    "language_info": {
      "name": "python"
    }
  },
  "cells": [
    {
      "cell_type": "markdown",
      "metadata": {
        "id": "view-in-github",
        "colab_type": "text"
      },
      "source": [
        "<a href=\"https://colab.research.google.com/github/AMEYABHAVE/Cristl/blob/main/project2_HAR.ipynb\" target=\"_parent\"><img src=\"https://colab.research.google.com/assets/colab-badge.svg\" alt=\"Open In Colab\"/></a>"
      ]
    },
    {
      "cell_type": "code",
      "metadata": {
        "colab": {
          "base_uri": "https://localhost:8080/"
        },
        "id": "J_39geOCNFWK",
        "outputId": "4c621aaa-a905-4030-dbaa-7b3bd875153b"
      },
      "source": [
        "import tensorflow as tf\n",
        "from tensorflow.keras import Sequential\n",
        "from tensorflow.keras.layers import Flatten, Dense, Dropout, BatchNormalization\n",
        "from tensorflow.keras.layers import Conv2D, MaxPool2D\n",
        "from tensorflow.keras.optimizers import Adam\n",
        "print(tf.__version__)"
      ],
      "execution_count": 1,
      "outputs": [
        {
          "output_type": "stream",
          "name": "stdout",
          "text": [
            "2.6.0\n"
          ]
        }
      ]
    },
    {
      "cell_type": "code",
      "metadata": {
        "id": "XOv7Iw1jOdTc"
      },
      "source": [
        "from google.colab import drive\n",
        "import pandas as pd\n",
        "file_location = '/content/drive/MyDrive/accelerometer.csv'\n",
        "accelerometer =pd.read_csv(file_location)\n",
        "accelerometer.drop(columns=['time','repetition','uuid'], inplace=True)\n",
        "accchair= accelerometer[accelerometer['activity'] == 'CHAIR'].head(31065)\n",
        "acccouch= accelerometer[accelerometer['activity'] == 'COUCH'].head(31065)\n",
        "accsurface= accelerometer[accelerometer['activity'] == 'SURFACE'].head(31065)\n",
        "acclyingup= accelerometer[accelerometer['activity'] == 'LYING_UP'].head(31065)\n",
        "acclyingside= accelerometer[accelerometer['activity'] == 'LYING_SIDE'].head(31065)\n",
        "accdataset = pd.DataFrame()\n",
        "accdataset = accdataset.append([accchair, acccouch, accsurface, acclyingup, acclyingside])\n",
        "\n",
        "file_location1 = '/content/drive/MyDrive/gyroscope.csv'\n",
        "gyroscope =pd.read_csv(file_location1)\n",
        "gyroscope.drop(columns=['time','repetition','uuid'], inplace=True)\n",
        "gyrchair= gyroscope[gyroscope['activity'] == 'CHAIR'].head(10178)\n",
        "gyrcouch= gyroscope[gyroscope['activity'] == 'COUCH'].head(10178)\n",
        "gyrsurface= gyroscope[gyroscope['activity'] == 'SURFACE'].head(10178)\n",
        "gyrlyingup= gyroscope[gyroscope['activity'] == 'LYING_UP'].head(10178)\n",
        "gyrlyingside= gyroscope[gyroscope['activity'] == 'LYING_SIDE'].head(10178)\n",
        "gyrdataset = pd.DataFrame()\n",
        "gyrdataset = gyrdataset.append([gyrchair, gyrcouch, gyrsurface, gyrlyingup, gyrlyingside])"
      ],
      "execution_count": 2,
      "outputs": []
    },
    {
      "cell_type": "code",
      "metadata": {
        "colab": {
          "base_uri": "https://localhost:8080/"
        },
        "id": "ulpTn2jJsCkN",
        "outputId": "ab7b9918-38aa-472f-a876-6efee357c7f9"
      },
      "source": [
        "accdataset.info()\n",
        "gyrdataset.info()"
      ],
      "execution_count": 3,
      "outputs": [
        {
          "output_type": "stream",
          "name": "stdout",
          "text": [
            "<class 'pandas.core.frame.DataFrame'>\n",
            "Int64Index: 155325 entries, 0 to 290908\n",
            "Data columns (total 5 columns):\n",
            " #   Column    Non-Null Count   Dtype  \n",
            "---  ------    --------------   -----  \n",
            " 0   name      155325 non-null  object \n",
            " 1   acc_x     155325 non-null  float64\n",
            " 2   acc_y     155325 non-null  float64\n",
            " 3   acc_z     155325 non-null  float64\n",
            " 4   activity  155325 non-null  object \n",
            "dtypes: float64(3), object(2)\n",
            "memory usage: 7.1+ MB\n",
            "<class 'pandas.core.frame.DataFrame'>\n",
            "Int64Index: 50890 entries, 0 to 93659\n",
            "Data columns (total 5 columns):\n",
            " #   Column    Non-Null Count  Dtype  \n",
            "---  ------    --------------  -----  \n",
            " 0   name      50890 non-null  object \n",
            " 1   gyr_x     50890 non-null  float64\n",
            " 2   gyr_y     50890 non-null  float64\n",
            " 3   gyr_z     50890 non-null  float64\n",
            " 4   activity  50890 non-null  object \n",
            "dtypes: float64(3), object(2)\n",
            "memory usage: 2.3+ MB\n"
          ]
        }
      ]
    },
    {
      "cell_type": "code",
      "metadata": {
        "colab": {
          "base_uri": "https://localhost:8080/"
        },
        "id": "uqoudP-YtmC3",
        "outputId": "a979cf01-4a98-452f-af10-5ae93871dc90"
      },
      "source": [
        "accdataset['activity'].value_counts()"
      ],
      "execution_count": 4,
      "outputs": [
        {
          "output_type": "execute_result",
          "data": {
            "text/plain": [
              "SURFACE       31065\n",
              "LYING_SIDE    31065\n",
              "COUCH         31065\n",
              "CHAIR         31065\n",
              "LYING_UP      31065\n",
              "Name: activity, dtype: int64"
            ]
          },
          "metadata": {},
          "execution_count": 4
        }
      ]
    },
    {
      "cell_type": "code",
      "metadata": {
        "colab": {
          "base_uri": "https://localhost:8080/"
        },
        "id": "3dxiYlzHtp2f",
        "outputId": "41b67d62-48b2-4e0c-f7bb-9956bc6c58d2"
      },
      "source": [
        "gyrdataset['activity'].value_counts()"
      ],
      "execution_count": 5,
      "outputs": [
        {
          "output_type": "execute_result",
          "data": {
            "text/plain": [
              "COUCH         10178\n",
              "SURFACE       10178\n",
              "CHAIR         10178\n",
              "LYING_UP      10178\n",
              "LYING_SIDE    10178\n",
              "Name: activity, dtype: int64"
            ]
          },
          "metadata": {},
          "execution_count": 5
        }
      ]
    },
    {
      "cell_type": "code",
      "metadata": {
        "colab": {
          "base_uri": "https://localhost:8080/"
        },
        "id": "ROo7wt7tt_a8",
        "outputId": "befd056a-e065-4a98-e35a-aea7541be2cb"
      },
      "source": [
        "import numpy as np\n",
        "import matplotlib.pyplot as plt\n",
        "from sklearn.model_selection import train_test_split\n",
        "from sklearn.preprocessing import StandardScaler, LabelEncoder\n",
        "label=LabelEncoder()\n",
        "accdataset['label']=label.fit_transform(accdataset['activity'])\n",
        "print(accdataset.head())\n",
        "print(label.classes_)"
      ],
      "execution_count": 6,
      "outputs": [
        {
          "output_type": "stream",
          "name": "stdout",
          "text": [
            "            name     acc_x     acc_y     acc_z activity  label\n",
            "0  accelerometer -0.414825  7.590469  6.235336    CHAIR      0\n",
            "1  accelerometer -0.337662  7.645508  6.125275    CHAIR      0\n",
            "2  accelerometer -0.393295  7.605423  6.231155    CHAIR      0\n",
            "3  accelerometer -0.469269  7.592865  6.281403    CHAIR      0\n",
            "4  accelerometer -0.418411  7.633530  6.317307    CHAIR      0\n",
            "['CHAIR' 'COUCH' 'LYING_SIDE' 'LYING_UP' 'SURFACE']\n"
          ]
        }
      ]
    },
    {
      "cell_type": "code",
      "metadata": {
        "colab": {
          "base_uri": "https://localhost:8080/"
        },
        "id": "68Fq8PK3vHkE",
        "outputId": "8a7bafb7-b6e0-4266-e501-1aca0d2386bf"
      },
      "source": [
        "gyrdataset['label']=label.fit_transform(gyrdataset['activity'])\n",
        "print(gyrdataset.head())\n",
        "print(label.classes_)"
      ],
      "execution_count": 7,
      "outputs": [
        {
          "output_type": "stream",
          "name": "stdout",
          "text": [
            "        name     gyr_x     gyr_y     gyr_z activity  label\n",
            "0  gyroscope -0.309540  7.679596  6.142029    CHAIR      0\n",
            "1  gyroscope -0.530884  7.897354  5.765747    CHAIR      0\n",
            "2  gyroscope -0.608643  8.231140  5.266846    CHAIR      0\n",
            "3  gyroscope -0.570953  8.260452  5.229172    CHAIR      0\n",
            "4  gyroscope -0.816223  8.244308  5.284195    CHAIR      0\n",
            "['CHAIR' 'COUCH' 'LYING_SIDE' 'LYING_UP' 'SURFACE']\n"
          ]
        }
      ]
    },
    {
      "cell_type": "code",
      "metadata": {
        "colab": {
          "base_uri": "https://localhost:8080/",
          "height": 417
        },
        "id": "upyuAIepv96H",
        "outputId": "a55bea03-9de0-4c06-d3b8-d1d8805a05fa"
      },
      "source": [
        "AX = accdataset[['acc_x','acc_y','acc_z']]\n",
        "AY = accdataset['label']\n",
        "scaler = StandardScaler()\n",
        "AX = scaler.fit_transform(AX)\n",
        "Ascaled_X = pd.DataFrame(data=AX, columns=['acc_x','acc_y','acc_z'])\n",
        "Ascaled_X['label'] = AY.values\n",
        "Ascaled_X"
      ],
      "execution_count": 8,
      "outputs": [
        {
          "output_type": "execute_result",
          "data": {
            "text/html": [
              "<div>\n",
              "<style scoped>\n",
              "    .dataframe tbody tr th:only-of-type {\n",
              "        vertical-align: middle;\n",
              "    }\n",
              "\n",
              "    .dataframe tbody tr th {\n",
              "        vertical-align: top;\n",
              "    }\n",
              "\n",
              "    .dataframe thead th {\n",
              "        text-align: right;\n",
              "    }\n",
              "</style>\n",
              "<table border=\"1\" class=\"dataframe\">\n",
              "  <thead>\n",
              "    <tr style=\"text-align: right;\">\n",
              "      <th></th>\n",
              "      <th>acc_x</th>\n",
              "      <th>acc_y</th>\n",
              "      <th>acc_z</th>\n",
              "      <th>label</th>\n",
              "    </tr>\n",
              "  </thead>\n",
              "  <tbody>\n",
              "    <tr>\n",
              "      <th>0</th>\n",
              "      <td>-0.274232</td>\n",
              "      <td>0.775611</td>\n",
              "      <td>0.338360</td>\n",
              "      <td>0</td>\n",
              "    </tr>\n",
              "    <tr>\n",
              "      <th>1</th>\n",
              "      <td>-0.251889</td>\n",
              "      <td>0.791256</td>\n",
              "      <td>0.317787</td>\n",
              "      <td>0</td>\n",
              "    </tr>\n",
              "    <tr>\n",
              "      <th>2</th>\n",
              "      <td>-0.267998</td>\n",
              "      <td>0.779862</td>\n",
              "      <td>0.337579</td>\n",
              "      <td>0</td>\n",
              "    </tr>\n",
              "    <tr>\n",
              "      <th>3</th>\n",
              "      <td>-0.289997</td>\n",
              "      <td>0.776292</td>\n",
              "      <td>0.346972</td>\n",
              "      <td>0</td>\n",
              "    </tr>\n",
              "    <tr>\n",
              "      <th>4</th>\n",
              "      <td>-0.275271</td>\n",
              "      <td>0.787851</td>\n",
              "      <td>0.353683</td>\n",
              "      <td>0</td>\n",
              "    </tr>\n",
              "    <tr>\n",
              "      <th>...</th>\n",
              "      <td>...</td>\n",
              "      <td>...</td>\n",
              "      <td>...</td>\n",
              "      <td>...</td>\n",
              "    </tr>\n",
              "    <tr>\n",
              "      <th>155320</th>\n",
              "      <td>1.850608</td>\n",
              "      <td>-0.116939</td>\n",
              "      <td>0.115499</td>\n",
              "      <td>2</td>\n",
              "    </tr>\n",
              "    <tr>\n",
              "      <th>155321</th>\n",
              "      <td>1.858230</td>\n",
              "      <td>-0.125440</td>\n",
              "      <td>0.105099</td>\n",
              "      <td>2</td>\n",
              "    </tr>\n",
              "    <tr>\n",
              "      <th>155322</th>\n",
              "      <td>1.861866</td>\n",
              "      <td>-0.124082</td>\n",
              "      <td>0.114717</td>\n",
              "      <td>2</td>\n",
              "    </tr>\n",
              "    <tr>\n",
              "      <th>155323</th>\n",
              "      <td>1.845412</td>\n",
              "      <td>-0.123401</td>\n",
              "      <td>0.119971</td>\n",
              "      <td>2</td>\n",
              "    </tr>\n",
              "    <tr>\n",
              "      <th>155324</th>\n",
              "      <td>1.846799</td>\n",
              "      <td>-0.125271</td>\n",
              "      <td>0.118183</td>\n",
              "      <td>2</td>\n",
              "    </tr>\n",
              "  </tbody>\n",
              "</table>\n",
              "<p>155325 rows × 4 columns</p>\n",
              "</div>"
            ],
            "text/plain": [
              "           acc_x     acc_y     acc_z  label\n",
              "0      -0.274232  0.775611  0.338360      0\n",
              "1      -0.251889  0.791256  0.317787      0\n",
              "2      -0.267998  0.779862  0.337579      0\n",
              "3      -0.289997  0.776292  0.346972      0\n",
              "4      -0.275271  0.787851  0.353683      0\n",
              "...          ...       ...       ...    ...\n",
              "155320  1.850608 -0.116939  0.115499      2\n",
              "155321  1.858230 -0.125440  0.105099      2\n",
              "155322  1.861866 -0.124082  0.114717      2\n",
              "155323  1.845412 -0.123401  0.119971      2\n",
              "155324  1.846799 -0.125271  0.118183      2\n",
              "\n",
              "[155325 rows x 4 columns]"
            ]
          },
          "metadata": {},
          "execution_count": 8
        }
      ]
    },
    {
      "cell_type": "code",
      "metadata": {
        "colab": {
          "base_uri": "https://localhost:8080/",
          "height": 417
        },
        "id": "t9qh_ah7xvwO",
        "outputId": "dbbab0c2-8e9a-4904-9d39-ebe00690ad85"
      },
      "source": [
        "GX = gyrdataset[['gyr_x','gyr_y','gyr_z']]\n",
        "GY = gyrdataset['label']\n",
        "scaler = StandardScaler()\n",
        "GX = scaler.fit_transform(GX)\n",
        "Gscaled_X = pd.DataFrame(data=GX, columns=['gyr_x','gyr_y','gyr_z'])\n",
        "Gscaled_X['label'] = GY.values\n",
        "Gscaled_X"
      ],
      "execution_count": 9,
      "outputs": [
        {
          "output_type": "execute_result",
          "data": {
            "text/html": [
              "<div>\n",
              "<style scoped>\n",
              "    .dataframe tbody tr th:only-of-type {\n",
              "        vertical-align: middle;\n",
              "    }\n",
              "\n",
              "    .dataframe tbody tr th {\n",
              "        vertical-align: top;\n",
              "    }\n",
              "\n",
              "    .dataframe thead th {\n",
              "        text-align: right;\n",
              "    }\n",
              "</style>\n",
              "<table border=\"1\" class=\"dataframe\">\n",
              "  <thead>\n",
              "    <tr style=\"text-align: right;\">\n",
              "      <th></th>\n",
              "      <th>gyr_x</th>\n",
              "      <th>gyr_y</th>\n",
              "      <th>gyr_z</th>\n",
              "      <th>label</th>\n",
              "    </tr>\n",
              "  </thead>\n",
              "  <tbody>\n",
              "    <tr>\n",
              "      <th>0</th>\n",
              "      <td>-0.381119</td>\n",
              "      <td>0.954777</td>\n",
              "      <td>0.289859</td>\n",
              "      <td>0</td>\n",
              "    </tr>\n",
              "    <tr>\n",
              "      <th>1</th>\n",
              "      <td>-0.447922</td>\n",
              "      <td>1.017698</td>\n",
              "      <td>0.225016</td>\n",
              "      <td>0</td>\n",
              "    </tr>\n",
              "    <tr>\n",
              "      <th>2</th>\n",
              "      <td>-0.471390</td>\n",
              "      <td>1.114144</td>\n",
              "      <td>0.139043</td>\n",
              "      <td>0</td>\n",
              "    </tr>\n",
              "    <tr>\n",
              "      <th>3</th>\n",
              "      <td>-0.460015</td>\n",
              "      <td>1.122614</td>\n",
              "      <td>0.132551</td>\n",
              "      <td>0</td>\n",
              "    </tr>\n",
              "    <tr>\n",
              "      <th>4</th>\n",
              "      <td>-0.534039</td>\n",
              "      <td>1.117949</td>\n",
              "      <td>0.142032</td>\n",
              "      <td>0</td>\n",
              "    </tr>\n",
              "    <tr>\n",
              "      <th>...</th>\n",
              "      <td>...</td>\n",
              "      <td>...</td>\n",
              "      <td>...</td>\n",
              "      <td>...</td>\n",
              "    </tr>\n",
              "    <tr>\n",
              "      <th>50885</th>\n",
              "      <td>1.775278</td>\n",
              "      <td>-0.051905</td>\n",
              "      <td>0.156878</td>\n",
              "      <td>2</td>\n",
              "    </tr>\n",
              "    <tr>\n",
              "      <th>50886</th>\n",
              "      <td>1.748738</td>\n",
              "      <td>-0.061239</td>\n",
              "      <td>0.197183</td>\n",
              "      <td>2</td>\n",
              "    </tr>\n",
              "    <tr>\n",
              "      <th>50887</th>\n",
              "      <td>1.833230</td>\n",
              "      <td>-0.089932</td>\n",
              "      <td>0.158527</td>\n",
              "      <td>2</td>\n",
              "    </tr>\n",
              "    <tr>\n",
              "      <th>50888</th>\n",
              "      <td>1.772750</td>\n",
              "      <td>-0.039630</td>\n",
              "      <td>0.131827</td>\n",
              "      <td>2</td>\n",
              "    </tr>\n",
              "    <tr>\n",
              "      <th>50889</th>\n",
              "      <td>1.795859</td>\n",
              "      <td>-0.061926</td>\n",
              "      <td>0.158527</td>\n",
              "      <td>2</td>\n",
              "    </tr>\n",
              "  </tbody>\n",
              "</table>\n",
              "<p>50890 rows × 4 columns</p>\n",
              "</div>"
            ],
            "text/plain": [
              "          gyr_x     gyr_y     gyr_z  label\n",
              "0     -0.381119  0.954777  0.289859      0\n",
              "1     -0.447922  1.017698  0.225016      0\n",
              "2     -0.471390  1.114144  0.139043      0\n",
              "3     -0.460015  1.122614  0.132551      0\n",
              "4     -0.534039  1.117949  0.142032      0\n",
              "...         ...       ...       ...    ...\n",
              "50885  1.775278 -0.051905  0.156878      2\n",
              "50886  1.748738 -0.061239  0.197183      2\n",
              "50887  1.833230 -0.089932  0.158527      2\n",
              "50888  1.772750 -0.039630  0.131827      2\n",
              "50889  1.795859 -0.061926  0.158527      2\n",
              "\n",
              "[50890 rows x 4 columns]"
            ]
          },
          "metadata": {},
          "execution_count": 9
        }
      ]
    }
  ]
}